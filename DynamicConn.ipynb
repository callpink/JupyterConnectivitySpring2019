{
 "cells": [
  {
   "cell_type": "markdown",
   "metadata": {},
   "source": [
    "<p style=\"text-align:center\">\n",
    "PSY 381D <b>Brain Connectivity</b>, Spring 2019\n",
    "\n",
    "\n",
    "<img style=\"width: 700px; padding: 0px;\" src=\"https://github.com/sathayas/JupyterConnectivitySpring2019/blob/master/Images/Banner.png?raw=true\" alt=\"title pics\"/>\n",
    "\n",
    "</p>\n",
    "\n",
    "<p style=\"text-align:center; font-size:40px; margin-bottom: 30px;\"><b> Dynamic connectivity and brain states </b></p>\n",
    "\n",
    "<p style=\"text-align:center; font-size:18px; margin-bottom: 32px;\"><b>April 8, 2019</b></p>\n",
    "\n",
    "<hr style=\"height:5px;border:none\" />"
   ]
  },
  {
   "cell_type": "markdown",
   "metadata": {},
   "source": [
    "# 10. Outline\n",
    "<hr style=\"height:1px;border:none\" />\n",
    "\n",
    "* Scikit-learn\n",
    "* Data\n",
    "    * Resting-state fMRI -- Leiden\n",
    "    * Task fMRI -- Covert verb\n",
    "* Sliding windows and connectivity calculation\n",
    "    * Tapered window\n",
    "    * ICOV with graphical LASSO with L1\n",
    "    * Series of networks\n",
    "* Temporal dynamics of network property\n",
    "    * Nodal efficiency\n",
    "        * Global\n",
    "        * Local\n",
    "* Brain states\n",
    "    * K-means clustering\n",
    "    * Connectivity over time plot\n",
    "    * State change diagram\n",
    "    "
   ]
  }
 ],
 "metadata": {
  "kernelspec": {
   "display_name": "Python 3",
   "language": "python",
   "name": "python3"
  },
  "language_info": {
   "codemirror_mode": {
    "name": "ipython",
    "version": 3
   },
   "file_extension": ".py",
   "mimetype": "text/x-python",
   "name": "python",
   "nbconvert_exporter": "python",
   "pygments_lexer": "ipython3",
   "version": "3.5.6"
  }
 },
 "nbformat": 4,
 "nbformat_minor": 2
}
