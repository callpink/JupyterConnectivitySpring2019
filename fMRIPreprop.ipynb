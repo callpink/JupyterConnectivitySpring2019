{
 "cells": [
  {
   "cell_type": "markdown",
   "metadata": {},
   "source": [
    "<p style=\"text-align:center\">\n",
    "PSY 381D <b>Brain Connectivity</b>, Spring 2019\n",
    "\n",
    "\n",
    "<img style=\"width: 700px; padding: 0px;\" src=\"https://github.com/sathayas/JupyterConnectivitySpring2019/blob/master/Images/Banner.png?raw=true\" alt=\"title pics\"/>\n",
    "\n",
    "</p>\n",
    "\n",
    "<p style=\"text-align:center; font-size:40px; margin-bottom: 30px;\"><b> fMRI pre-processing </b></p>\n",
    "\n",
    "<p style=\"text-align:center; font-size:18px; margin-bottom: 32px;\"><b>April 15, 2019</b></p>\n",
    "\n",
    "<hr style=\"height:5px;border:none\" />"
   ]
  },
  {
   "cell_type": "markdown",
   "metadata": {},
   "source": [
    "# 10. Outline\n",
    "<hr style=\"height:1px;border:none\" />\n",
    "\n",
    "* Data\n",
    "* fMRI pre-processing steps\n",
    "  * Typical fMRI experiment to study activation\n",
    "  * For constructing fMRI network\n",
    "* Global signal regression\n",
    "  * Data without any global signal correction\n",
    "    * Respiration and other physiological noises\n",
    "  * Data with global signal correction\n",
    "  * Estimating global signals\n",
    "    * Whole brain\n",
    "    * Deep white matter\n",
    "    * CSF\n",
    "  * Anti-correlation and GSR\n",
    "* Motion scrubbing\n",
    "  * Motion parameters over time\n",
    "  * Frame-wise displacement\n",
    "  * Network properties with and without motion scrubbing\n",
    "\n",
    "  "
   ]
  },
  {
   "cell_type": "code",
   "execution_count": null,
   "metadata": {},
   "outputs": [],
   "source": []
  }
 ],
 "metadata": {
  "kernelspec": {
   "display_name": "Python 3",
   "language": "python",
   "name": "python3"
  },
  "language_info": {
   "codemirror_mode": {
    "name": "ipython",
    "version": 3
   },
   "file_extension": ".py",
   "mimetype": "text/x-python",
   "name": "python",
   "nbconvert_exporter": "python",
   "pygments_lexer": "ipython3",
   "version": "3.5.6"
  }
 },
 "nbformat": 4,
 "nbformat_minor": 2
}
