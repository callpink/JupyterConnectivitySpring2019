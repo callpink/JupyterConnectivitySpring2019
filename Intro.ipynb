{
 "cells": [
  {
   "cell_type": "markdown",
   "metadata": {},
   "source": [
    "<p style=\"text-align:center\">\n",
    "PSY 381D <b>Brain Connectivity</b>, Spring 2019\n",
    "\n",
    "\n",
    "<img style=\"width: 700px; padding: 0px;\" src=\"https://github.com/sathayas/JupyterConnectivitySpring2019/blob/master/Images/Banner.png?raw=true\" alt=\"title pics\"/>\n",
    "\n",
    "</p>\n",
    "\n",
    "<p style=\"text-align:center; font-size:40px; margin-bottom: 30px;\"><b>Overview</b></p>\n",
    "\n",
    "<p style=\"text-align:center; font-size:18px; margin-bottom: 32px;\"><b>January 28, 2019</b></p>\n",
    "\n",
    "<hr style=\"height:5px;border:none\" />"
   ]
  },
  {
   "cell_type": "markdown",
   "metadata": {},
   "source": [
    "# SYLLABUS (EXECUTIVE SUMMARY)"
   ]
  },
  {
   "cell_type": "markdown",
   "metadata": {},
   "source": [
    "# Logistics\n",
    "<hr style=\"height:1px;border:none\" />\n",
    "\n",
    "\n",
    "## Instructor\n",
    "**Satoru Hayasaka, Ph.D.**\n",
    "* Office: SEA 2.214\n",
    "* Email: hayasaka@utexas.edu\n",
    "* Office hours: 10:00-11:30am, Mon & Fri - Or by appointment\n",
    "\n",
    "## Class\n",
    "* **Day/time**: Mon, 1pm-4pm\n",
    "* **Location**: SEA 2.210\n",
    "  * The classroom is unlocked during the class\n",
    "  * Proximity card access required other times\n"
   ]
  },
  {
   "cell_type": "markdown",
   "metadata": {},
   "source": [
    "# Course objectives\n",
    "<hr style=\"height:1px;border:none\" />\n",
    "\n",
    "This course introduces network science tools to examine complex networks, as well as tools necessary to extract and construct brain networks from brain imaging data. The course is designed for both quantitative scientists and brain imaging researchers; materials are organized in a way that no advanced knowledge in network science or brain imaging is required.\n",
    "\n",
    "Upon completion of this course, students will be able to:\n",
    "* Understand the concepts behind various network analysis techniques to examine properties of brain networks\n",
    "* Summarize and articulate concepts on complex network analysis and/or brain connectivity data from a journal article\n",
    "* Perform a simple analysis to examine a hypothesis pertaining to brain network structure or organization\n",
    "\n"
   ]
  },
  {
   "cell_type": "markdown",
   "metadata": {},
   "source": [
    "# Course resources\n",
    "<hr style=\"height:1px;border:none\" />\n",
    "\n",
    "## Required resources\n",
    "\n",
    "### Hardware\n",
    "#### Computer\n",
    "* Students are encouraged to bring their laptop. \n",
    "* Your computer should be able to run analytics libraries used in this class. \n",
    "* There are 10 iMac workstations available in the classroom.\n",
    "\n",
    "#### Data storage\n",
    "All the resources (software & data) may require up to 30GB of disk space.\n",
    "\n",
    "\n",
    "### Software\n",
    "***The instructor is unable to answer any questions or issues related to software installation during the class. If you need any assistance regarding software installation or issues, consult with the instructor during office hours.***\n",
    "\n",
    "#### Option 1: Software bundle with Docker (recommended)\n",
    "If you do not have Python on your computer, then I ask you to install Docker on your computer. Docker is similar to a virtual machine (a computer inside your computer), but is much simpler and requiring far less resources to run than a virtual machine. Docker enables you to install and run a bundle of software packages and libraries known as a Docker image.\n",
    "\n",
    "Details on how to install Docker and the Docker image are found in a separate document.\n",
    "\n",
    "#### Option 2: Native installation (for advanced users)\n",
    "You can install necessary software tools and libraries (listed in the syllabus) directly on your computer. This option requires more effort and expertise on your part, but the installed tools will likely run faster than the Docker option."
   ]
  },
  {
   "cell_type": "markdown",
   "metadata": {},
   "source": [
    "## Optional Resources      \n",
    "**Git:** Git enables you to clone (or copy) codes, notes, and some data associated with this class from GitHub. Git is already pre-installed on Mac. For Windows users, you can download Git for free from its website (https://git-scm.com/downloads).\n",
    "\n",
    "**Gephi:**\n",
    "Gephi is a network data visualization tool. It can visualize network data in various configurations and color schemes. Gephi is available freely on the web (https://gephi.org/users/download/).\n",
    "\n",
    "\n",
    "**MRIcron:** \n",
    "An interactive image viewer software tool for brain imaging data. Available at https://www.nitrc.org/projects/mricron\n",
    "\n",
    "**Python Refresher:** If you need a refresher course on Python, you can read my course notes from my Intro Python class (https://github.com/sathayas/JupyterPythonFall2018). \n",
    "It should be noted that there will be no formal remedial tutorial on Python coding during the class."
   ]
  },
  {
   "cell_type": "markdown",
   "metadata": {},
   "source": [
    "## Course Materials\n",
    "\n",
    "\n",
    "### Course Notes:\n",
    "Course notes are in Jupyter Notebook format, and available from the instructor’s GitHub repository at \n",
    "(https://github.com/sathayas/JupyterConnectivitySpring2019 ). You can clone this repository by\n",
    "```\n",
    "git clone https://github.com/sathayas/JupyterConnectivitySpring2019.git Notes\n",
    "```\n",
    "This creates a directory named **`Notes`** with all the contents of this repository.\n",
    "\n",
    "### Reading materials:\n",
    "Unfortunately, I cannot post PDF articles on GitHub due to copyrights. All reading materials, either PDF documents or links to PDF documents, will be posted on Canvas.\n",
    "\n",
    "### Codes:\n",
    "Some example codes and data (if sufficiently small) used during the class, as well as sample solutions for in-class exercises and homework assignments, are available on GitHub at\n",
    "(https://github.com/sathayas/ConnectivityClassSpring2019 ). You can clone this repository by\n",
    "```\n",
    "git clone https://github.com/sathayas/ConnectivityClassSpring2019.git Codes\n",
    "```\n",
    "This creates a directory named **`Codes`** with all the contents of this repository.\n",
    "\n",
    "### Data:\n",
    "Various types of brain and non-brain network data will be available for download from Box.com via links provided by the instructor. Brain imaging data, processed or unprocessed, will also be provided by the instructor on Box.com. Necessary links to data will be provided on Canvas.\n",
    "\n",
    "\n",
    "*You can learn more about Git and GitHub on [my tutorial note](https://nbviewer.jupyter.org/github/sathayas/JupyterPythonFall2017/blob/master/Git.ipynb).*\n",
    "\n"
   ]
  },
  {
   "cell_type": "markdown",
   "metadata": {},
   "source": [
    "# Grading\n",
    "<hr style=\"height:1px;border:none\" /> \n",
    " \n",
    "## Homework assignment (45 points)\n",
    "* Four homework assignments throughout the semester\n",
    "* Each is worth 15 points\n",
    "* Total of the three highest scores\n",
    "   \n",
    "## Journal presentation (20 points)\n",
    "* Journal club style - informal presentation & discussion (approximately 1 hour)\n",
    "    * **Summarizing the materials:** Summary of the method / technique presented in the paper\n",
    "    * **Critical review of the paper:** Strengths / weaknesses of the paper\n",
    "\n",
    "* One presentation per student\n",
    "  * Sign-up on this link (**add link here**)\n",
    "* Papers\n",
    "  * Suggested by the instructor\n",
    "  * Or chosen by a student, with an approval from the instructor\n",
    "  * Distributed via Canvas the week before\n",
    "* Everybody is expected to read the paper\n",
    "* Peer evaluation\n",
    "  * Online evaluation -- everybody (except the presenter) fills out\n",
    "  * Open peer review -- presenter knows who wrote the review\n",
    "  * All students must turn in the review -- the instructor will remind those who haven't turned in the review.\n",
    "\n",
    "## Final project (20 points)\n",
    "* Group project with 2-3 students\n",
    "* Processing and/or analysis of brain network data\n",
    "* Two class periods\n",
    "    * Day 1: Get together, brainstorming, analysis\n",
    "    * Day 2: Presentation\n",
    "\n",
    "## Attendance (15 points)\n",
    "* Attendance is mandatory\n",
    "* If you are unable to attend, you have to be late, or you have to leave early on a **legitimate reason** (e.g., family emergency, illness, jury duty, ongoing research commitment that cannot be rescheduled, etc.)\n",
    "   * Please notify me, ideally **BEFORE** the class\n",
    "* Unexcused\n",
    "   * absence: -2 points per occurrence\n",
    "   * tardiness (20+ min): -1 points per occurrence\n",
    "   * early departure (20+ min): -1 points per occurrence\n",
    "\n",
    "\n",
    "## In-Class Exercise Presentations (Extra points)\n",
    "Present your solution to in-class exercises. Post your code on Canvas and the instructor will choose a presenter among all posted solutions. Students will earn 1 point per presentation if selected to present. All extra points earned during the semester will be added toward your final grade. ***Note that you will not earn points just by posting your code on Canvas; you have to be selected to present your code to earn points.***\n"
   ]
  },
  {
   "cell_type": "markdown",
   "metadata": {},
   "source": [
    "## 2.5. Policies\n",
    "\n",
    "### Auditing\n",
    "From the syllabus:\n",
    "\n",
    "\n",
    "> Those who are interested in auditing this class may do so by requesting a permission from the instructor BEFORE attending the class. The instructor may grant access to Canvas for those auditing the class. The instructor reserves the right to revoke the permission to audit when a person auditing the class is deemed disruptive to the class (e.g., asking many questions not directly related to the class, engaging in activities unrelated to the class).\n",
    "\n",
    "> If you are a graduate student, I ask you to register for the class rather than auditing. This is because a low number of student enrollment will result in cancellation of the class.\n",
    "\n",
    "\n",
    "### Late assignments\n",
    "If there is an extenuating circumstance (e.g., health problems, family emergencies, etc.) to prevent you from submitting a homework assignment, to avoid reduced points, please ask the instructor’s permission for a late submission **BEFORE** the deadline. Otherwise, points will be deducted depending on how late it is. See the syllabus for more details.\n",
    "\n",
    "### Group Submissions\n",
    "Students may work together on a homework assignment. Each student is still responsible for submitting his/her homework assignment individually on Canvas. If you work with others on a homework assignment, please comment whom you worked with. When students are working together, their group size may not exceed 3.\n"
   ]
  }
 ],
 "metadata": {
  "kernelspec": {
   "display_name": "Python 3",
   "language": "python",
   "name": "python3"
  },
  "language_info": {
   "codemirror_mode": {
    "name": "ipython",
    "version": 3
   },
   "file_extension": ".py",
   "mimetype": "text/x-python",
   "name": "python",
   "nbconvert_exporter": "python",
   "pygments_lexer": "ipython3",
   "version": "3.6.5"
  }
 },
 "nbformat": 4,
 "nbformat_minor": 2
}
