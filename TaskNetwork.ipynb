{
 "cells": [
  {
   "cell_type": "markdown",
   "metadata": {},
   "source": [
    "<p style=\"text-align:center\">\n",
    "PSY 381D <b>Brain Connectivity</b>, Spring 2019\n",
    "\n",
    "\n",
    "<img style=\"width: 700px; padding: 0px;\" src=\"https://github.com/sathayas/JupyterConnectivitySpring2019/blob/master/Images/Banner.png?raw=true\" alt=\"title pics\"/>\n",
    "\n",
    "</p>\n",
    "\n",
    "<p style=\"text-align:center; font-size:40px; margin-bottom: 30px;\"><b> fMRI task networks </b></p>\n",
    "\n",
    "<p style=\"text-align:center; font-size:18px; margin-bottom: 32px;\"><b>April 1, 2019</b></p>\n",
    "\n",
    "<hr style=\"height:5px;border:none\" />"
   ]
  },
  {
   "cell_type": "markdown",
   "metadata": {},
   "source": [
    "# 0. Outline\n",
    "\n",
    "<hr style=\"height:1px;border:none\" />\n",
    "\n",
    "* Data\n",
    "  * Covert verb generation data\n",
    "     * K=200 and K=950, time series and network data\n",
    "  * Finger-foot-lips data\n",
    "     * K=200 and K=950, time series and network data\n",
    "* Task network -- covert verb\n",
    "  * Task time series\n",
    "  * Task network \n",
    "     * task not regressed out\n",
    "     * task regressed out\n",
    "     * Modular organization\n",
    "  * Resting-state network\n",
    "  * Rest vs task -- modular organization comparison\n",
    "* Task network -- finger, foot, lips\n",
    "  * Task time series\n",
    "  * Task network (foot only)\n",
    "     * task not regressed out\n",
    "     * task regressed out\n",
    "     * Modular organization\n",
    "  * Comparison with resting-state (from previous step)"
   ]
  }
 ],
 "metadata": {
  "kernelspec": {
   "display_name": "Python 3",
   "language": "python",
   "name": "python3"
  },
  "language_info": {
   "codemirror_mode": {
    "name": "ipython",
    "version": 3
   },
   "file_extension": ".py",
   "mimetype": "text/x-python",
   "name": "python",
   "nbconvert_exporter": "python",
   "pygments_lexer": "ipython3",
   "version": "3.5.6"
  }
 },
 "nbformat": 4,
 "nbformat_minor": 2
}
