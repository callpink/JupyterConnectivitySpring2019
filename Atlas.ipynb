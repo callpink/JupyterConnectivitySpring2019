{
 "cells": [
  {
   "cell_type": "markdown",
   "metadata": {},
   "source": [
    "<p style=\"text-align:center\">\n",
    "PSY 381D <b>Brain Connectivity</b>, Spring 2019\n",
    "\n",
    "\n",
    "<img style=\"width: 700px; padding: 0px;\" src=\"https://github.com/sathayas/JupyterConnectivitySpring2019/blob/master/Images/Banner.png?raw=true\" alt=\"title pics\"/>\n",
    "\n",
    "</p>\n",
    "\n",
    "<p style=\"text-align:center; font-size:40px; margin-bottom: 30px;\"><b> Brain atlases & node definition </b></p>\n",
    "\n",
    "<p style=\"text-align:center; font-size:18px; margin-bottom: 32px;\"><b>March 11, 2019</b></p>\n",
    "\n",
    "<hr style=\"height:5px;border:none\" />"
   ]
  },
  {
   "cell_type": "markdown",
   "metadata": {},
   "source": [
    "# 1. Data\n",
    "<hr style=\"height:1px;border:none\" />\n",
    "\n",
    "All the files are available in the **`DataAtlas`** directory, available in either the note or code repository.\n",
    "\n",
    "## fMRI data\n",
    "In this exercise, we will be using this fMRI data:\n",
    "* `Oxford_sub16112_func2standard_r_bp_reg_ms.nii.gz`\n",
    "\n",
    "This file contains a series of 3D volumes from resting-state fMRI experiment. This data has been pre-processed (to be covered later in the semester). \n",
    "\n",
    "## Atlases\n",
    "We will use two atlases for this exercise:\n",
    "* `aal_MNI_V4.nii.gz`: AAL atlas\n",
    "* `tcorr05_2level_all_r.nii.gz`: Rt2 atlas, or Craddock $r_t$ 2-level atlas, containing a series of atlases defined as different values of K"
   ]
  },
  {
   "cell_type": "markdown",
   "metadata": {},
   "source": [
    "* Data (explain atlases)\n",
    "* Header info (voxel size, dim)\n",
    "* Image data\n",
    "* Reslicing the atlas\n",
    "* forming a network\n",
    "  * Extracting mean time course\n",
    "  * Correlation matrix\n",
    "  * Thresholding\n",
    "* Network characteristics\n",
    "  * Small-worldness\n",
    "  * Centrality\n",
    "  * Modularity\n",
    " "
   ]
  },
  {
   "cell_type": "code",
   "execution_count": null,
   "metadata": {},
   "outputs": [],
   "source": []
  }
 ],
 "metadata": {
  "kernelspec": {
   "display_name": "Python 3",
   "language": "python",
   "name": "python3"
  },
  "language_info": {
   "codemirror_mode": {
    "name": "ipython",
    "version": 3
   },
   "file_extension": ".py",
   "mimetype": "text/x-python",
   "name": "python",
   "nbconvert_exporter": "python",
   "pygments_lexer": "ipython3",
   "version": "3.6.7"
  }
 },
 "nbformat": 4,
 "nbformat_minor": 2
}
