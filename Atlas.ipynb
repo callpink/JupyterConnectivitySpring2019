{
 "cells": [
  {
   "cell_type": "markdown",
   "metadata": {},
   "source": [
    "<p style=\"text-align:center\">\n",
    "PSY 381D <b>Brain Connectivity</b>, Spring 2019\n",
    "\n",
    "\n",
    "<img style=\"width: 700px; padding: 0px;\" src=\"https://github.com/sathayas/JupyterConnectivitySpring2019/blob/master/Images/Banner.png?raw=true\" alt=\"title pics\"/>\n",
    "\n",
    "</p>\n",
    "\n",
    "<p style=\"text-align:center; font-size:40px; margin-bottom: 30px;\"><b> Brain atlases & node definition </b></p>\n",
    "\n",
    "<p style=\"text-align:center; font-size:18px; margin-bottom: 32px;\"><b>March 11, 2019</b></p>\n",
    "\n",
    "<hr style=\"height:5px;border:none\" />"
   ]
  },
  {
   "cell_type": "markdown",
   "metadata": {},
   "source": [
    "# 1. Data\n",
    "<hr style=\"height:1px;border:none\" />\n",
    "\n",
    "All the files are available in the **`DataAtlas`** directory, available in either the note or code repository.\n",
    "\n",
    "## fMRI data\n",
    "In this exercise, we will be using this fMRI data:\n",
    "* `Oxford_sub16112_func2standard_r_bp_reg_ms.nii.gz`\n",
    "\n",
    "This file contains a series of 3D volumes from resting-state fMRI experiment. This data has been pre-processed (to be covered later in the semester). \n",
    "\n",
    "## Atlases\n",
    "We will use two atlases for this exercise:\n",
    "* `aal_MNI_V4.nii.gz`: AAL atlas\n",
    "* `tcorr05_2level_all_r.nii.gz`: Rt2 atlas, or Craddock $r_t$ 2-level atlas, containing a series of atlases defined as different values of K\n",
    "\n",
    "## NIfTI format\n",
    "All image data for this exercise are in the NIfTI format. **NIfTI** stands for Neuroimaging Informatics Technology Initiative, with **`.nii`** extension, or compressed version with **`.nii.gz`** extension. A NIfTI file consists of the header information (first 348 Bytes) and the image data (the rest of the file).\n",
    "\n",
    "### NIfTI header\n",
    "A typical NIfTI header includes a number of fields describing information regarding the image.  Let's take a look at some examples."
   ]
  },
  {
   "cell_type": "markdown",
   "metadata": {},
   "source": [
    "`<HeaderInfo.py>`"
   ]
  },
  {
   "cell_type": "code",
   "execution_count": 1,
   "metadata": {},
   "outputs": [],
   "source": [
    "%matplotlib inline"
   ]
  },
  {
   "cell_type": "code",
   "execution_count": 3,
   "metadata": {},
   "outputs": [],
   "source": [
    "import numpy as np\n",
    "import nibabel as nib\n",
    "\n",
    "\n",
    "\n",
    "###### Image data files\n",
    "# atlas data files\n",
    "f_atlasAAL = 'DataAtlas/aal_MNI_V4.nii.gz'\n",
    "f_atlasRt2 = 'DataAtlas/tcorr05_2level_all.nii.gz'\n",
    "\n",
    "#fMRI data file (processed)\n",
    "f_fMRI = 'DataAtlas/Oxford_sub16112_func2standard_r_bp_reg_ms.nii.gz'"
   ]
  },
  {
   "cell_type": "markdown",
   "metadata": {},
   "source": [
    "The **`load`** function in the **`nibabel`** library allows you to create an NIfTI image object. You can get the header information with the **`.header`** method and the image data with the **`get_data`** method"
   ]
  },
  {
   "cell_type": "code",
   "execution_count": 4,
   "metadata": {},
   "outputs": [],
   "source": [
    "##### Header information (fMRI)\n",
    "# loading the fMRI data\n",
    "fMRI = nib.load(f_fMRI)   # image object\n",
    "hdr_fMRI = fMRI.header   # header information\n",
    "X_fMRI = fMRI.get_data()  # image data array"
   ]
  },
  {
   "cell_type": "markdown",
   "metadata": {},
   "source": [
    "Here is the full header for the fMRI data."
   ]
  },
  {
   "cell_type": "code",
   "execution_count": 5,
   "metadata": {},
   "outputs": [
    {
     "name": "stdout",
     "output_type": "stream",
     "text": [
      "<class 'nibabel.nifti1.Nifti1Header'> object, endian='<'\n",
      "sizeof_hdr      : 348\n",
      "data_type       : b''\n",
      "db_name         : b''\n",
      "extents         : 0\n",
      "session_error   : 0\n",
      "regular         : b'r'\n",
      "dim_info        : 0\n",
      "dim             : [  4  46  56  42 172   1   1   1]\n",
      "intent_p1       : 0.0\n",
      "intent_p2       : 0.0\n",
      "intent_p3       : 0.0\n",
      "intent_code     : none\n",
      "datatype        : float32\n",
      "bitpix          : 32\n",
      "slice_start     : 0\n",
      "pixdim          : [-1.  4.  4.  4.  1.  0.  0.  0.]\n",
      "vox_offset      : 0.0\n",
      "scl_slope       : nan\n",
      "scl_inter       : nan\n",
      "slice_end       : 0\n",
      "slice_code      : unknown\n",
      "xyzt_units      : 10\n",
      "cal_max         : 0.0\n",
      "cal_min         : 0.0\n",
      "slice_duration  : 0.0\n",
      "toffset         : 0.0\n",
      "glmax           : 0\n",
      "glmin           : 0\n",
      "descrip         : b'FSL5.0'\n",
      "aux_file        : b''\n",
      "qform_code      : aligned\n",
      "sform_code      : aligned\n",
      "quatern_b       : 0.0\n",
      "quatern_c       : 1.0\n",
      "quatern_d       : 0.0\n",
      "qoffset_x       : 90.0\n",
      "qoffset_y       : -126.0\n",
      "qoffset_z       : -72.0\n",
      "srow_x          : [-4.  0.  0. 90.]\n",
      "srow_y          : [   0.    4.    0. -126.]\n",
      "srow_z          : [  0.   0.   4. -72.]\n",
      "intent_name     : b''\n",
      "magic           : b'n+1'\n"
     ]
    }
   ],
   "source": [
    "# priting out the header information\n",
    "print(hdr_fMRI)"
   ]
  },
  {
   "cell_type": "markdown",
   "metadata": {},
   "source": [
    "As you can see, there is quite a bit of information. We only need some selected information from the header, such as the image dimension (number of voxels in x-, y-, and z-directions) as well as the number of time points."
   ]
  },
  {
   "cell_type": "code",
   "execution_count": 6,
   "metadata": {},
   "outputs": [
    {
     "name": "stdout",
     "output_type": "stream",
     "text": [
      "(46, 56, 42, 172)\n"
     ]
    }
   ],
   "source": [
    "# image dimension\n",
    "print(hdr_fMRI.get_data_shape())"
   ]
  },
  {
   "cell_type": "markdown",
   "metadata": {},
   "source": [
    "And the voxel size (in mm, x-, y-, and z-directions) as well as the TR (in seconds, time between time points in fMRI experiment)."
   ]
  },
  {
   "cell_type": "code",
   "execution_count": 7,
   "metadata": {},
   "outputs": [
    {
     "name": "stdout",
     "output_type": "stream",
     "text": [
      "(4.0, 4.0, 4.0, 1.0)\n"
     ]
    }
   ],
   "source": [
    "# voxel size\n",
    "print(hdr_fMRI.get_zooms())"
   ]
  },
  {
   "cell_type": "markdown",
   "metadata": {},
   "source": [
    "Here is the header information (dimension and voxel size only) for the AAL atlas"
   ]
  },
  {
   "cell_type": "code",
   "execution_count": 8,
   "metadata": {},
   "outputs": [
    {
     "name": "stdout",
     "output_type": "stream",
     "text": [
      "(91, 109, 91, 1)\n",
      "(2.0, 2.0, 2.0, 0.0)\n"
     ]
    }
   ],
   "source": [
    "##### Header information (AAL atlas)\n",
    "# loading the AAL atlas data\n",
    "AAL = nib.load(f_atlasAAL)   # image object\n",
    "hdr_AAL = AAL.header   # header information\n",
    "X_AAL = AAL.get_data()  # image data array\n",
    "\n",
    "# image dimension\n",
    "print(hdr_AAL.get_data_shape())\n",
    "\n",
    "# voxel size\n",
    "print(hdr_AAL.get_zooms())"
   ]
  },
  {
   "cell_type": "markdown",
   "metadata": {},
   "source": [
    "### Exercise\n",
    "* **Image dimension & voxel size, Rt2 atlas**. Determine the image dimension and the voxel size for the Rt2 atlas image. Post the code and the numbers on Canvas."
   ]
  },
  {
   "cell_type": "markdown",
   "metadata": {},
   "source": [
    "## Image data\n",
    "After the header information, the rest of an NIfTI file contains image data as a series of voxel values. The **`get_data`** method can extract that information and put in a 4D (or 3D) array. Let's take a look at some image data."
   ]
  },
  {
   "cell_type": "markdown",
   "metadata": {},
   "source": [
    "`<ImageData.py>`"
   ]
  },
  {
   "cell_type": "code",
   "execution_count": 10,
   "metadata": {},
   "outputs": [],
   "source": [
    "import numpy as np\n",
    "import nibabel as nib\n",
    "import matplotlib.pyplot as plt\n",
    "\n",
    "\n",
    "###### functions to display 3D image\n",
    "def show_plane(x, nameCmap='gray'):\n",
    "    '''\n",
    "    Function to show a slice (provided as a 2D array)\n",
    "    '''\n",
    "    plt.imshow(x, cmap=nameCmap)\n",
    "    plt.gca().set_axis_off()\n",
    "\n",
    "\n",
    "def show_section(xImg, section, xSlice, nameCmap='gray'):\n",
    "    '''\n",
    "    Function to return a 2D array of a slice from a 3D array.\n",
    "    Slice orientation can be specified by the user.\n",
    "    '''\n",
    "    if section=='xy':\n",
    "        tmpImg = xImg[:,:,xSlice]\n",
    "    elif section=='xz':\n",
    "        tmpImg = xImg[:,xSlice,:]\n",
    "    else:\n",
    "        tmpImg = xImg[xSlice,:,:]\n",
    "    show_plane(np.rot90(tmpImg),nameCmap)\n",
    "\n",
    "###### Image data files\n",
    "# atlas data files\n",
    "f_atlasAAL = 'DataAtlas/aal_MNI_V4.nii.gz'\n",
    "f_atlasRt2 = 'DataAtlas/tcorr05_2level_all.nii.gz'\n",
    "\n",
    "#fMRI data file (processed)\n",
    "f_fMRI = 'DataAtlas/Oxford_sub16112_func2standard_r_bp_reg_ms.nii.gz'"
   ]
  },
  {
   "cell_type": "markdown",
   "metadata": {},
   "source": [
    "To facilitate visualization of the data, I have written a function called **`show_section`**. It takes a 3D array as first input parameter, followed by the slice specifier (xy-, xz-, or yz-slice) and the location of the slice (given as a single number). I am displaying the first 5 time points from the fMRI data as xy-slices (known as **axial** sections) at Z=20."
   ]
  },
  {
   "cell_type": "code",
   "execution_count": 11,
   "metadata": {},
   "outputs": [
    {
     "data": {
      "image/png": "[encoded data removed]",
      "text/plain": [
       "<Figure size 864x216 with 5 Axes>"
      ]
     },
     "metadata": {
      "needs_background": "light"
     },
     "output_type": "display_data"
    }
   ],
   "source": [
    "##### showing the image (fMRI)\n",
    "# loading the fMRI data\n",
    "fMRI = nib.load(f_fMRI)   # image object\n",
    "hdr_fMRI = fMRI.header   # header information\n",
    "X_fMRI = fMRI.get_data()  # image data array\n",
    "\n",
    "# showing fMRI time series, first 5 time points\n",
    "plt.figure(figsize=[12,3])\n",
    "\n",
    "for iTime in range(5):\n",
    "    plt.subplot(1,5,iTime+1)\n",
    "    show_section(X_fMRI[:,:,:,iTime], 'xy', 20) # xy-section, at time=iTime\n",
    "    plt.title('Time point ' + str(iTime+1))\n",
    "\n",
    "plt.show()"
   ]
  },
  {
   "cell_type": "markdown",
   "metadata": {},
   "source": [
    "Just for fun, I am plotting the voxel time course from one of the voxels ((x,y,z) = (13,20,20))."
   ]
  },
  {
   "cell_type": "code",
   "execution_count": 12,
   "metadata": {},
   "outputs": [
    {
     "data": {
      "image/png": "[encoded data removed]",
      "text/plain": [
       "<Figure size 432x288 with 1 Axes>"
      ]
     },
     "metadata": {
      "needs_background": "light"
     },
     "output_type": "display_data"
    }
   ],
   "source": [
    "##### Showing the time course (fMRI)\n",
    "# time course from a voxel\n",
    "xVox = 13\n",
    "yVox = 10\n",
    "zVox = 20\n",
    "timeVox = [X_fMRI[xVox,yVox,zVox,i] for i in range(X_fMRI.shape[-1])]\n",
    "# plotting the time course\n",
    "plt.plot(np.arange(1,len(timeVox)+1),timeVox)\n",
    "plt.title('Time course from voxel ' + str([xVox,yVox,zVox]))\n",
    "plt.xlabel('Time points')\n",
    "plt.ylabel('fMRI signal (processed)')\n",
    "plt.show()"
   ]
  },
  {
   "cell_type": "markdown",
   "metadata": {},
   "source": [
    "Now let's take a look at the AAL atlas. In this case, I am showing an axial section at Z=38."
   ]
  },
  {
   "cell_type": "code",
   "execution_count": 13,
   "metadata": {},
   "outputs": [
    {
     "data": {
      "image/png": "[encoded data removed]",
      "text/plain": [
       "<Figure size 432x288 with 1 Axes>"
      ]
     },
     "metadata": {
      "needs_background": "light"
     },
     "output_type": "display_data"
    }
   ],
   "source": [
    "##### showing the atlas (AAL)\n",
    "# loading the AAL atlas data\n",
    "AAL = nib.load(f_atlasAAL)   # image object\n",
    "hdr_AAL = AAL.header   # header information\n",
    "X_AAL = AAL.get_data().astype(float)  # image data array\n",
    "\n",
    "X_AAL[X_AAL==0] = np.nan  # suppressing the background\n",
    "show_section(X_AAL[:,:,:,0], 'xy', 38, nameCmap='rainbow') \n",
    "plt.title('AAL atlas')\n",
    "plt.show()"
   ]
  },
  {
   "cell_type": "markdown",
   "metadata": {},
   "source": [
    "This is what a typical atlas image looks like. Voxels belonging to the same ROI (region of interest) are assigned a same integer value.\n",
    "\n",
    "As for the Rt2 atlas, it contains a series of atlases with different values of K (for target number of clusters in the clustering algorithm)."
   ]
  },
  {
   "cell_type": "code",
   "execution_count": 15,
   "metadata": {},
   "outputs": [],
   "source": [
    "##### showing the atlas (Rt2)\n",
    "# loading the Rt2 atlas data\n",
    "Rt2 = nib.load(f_atlasRt2)   # image object\n",
    "hdr_Rt2 = Rt2.header   # header information\n",
    "X_Rt2 = Rt2.get_data().astype(float)  # image data array\n",
    "\n",
    "# Ks for clustering algorithm\n",
    "K = list(range(10,301,10)) + list(range(350,1000,50))  "
   ]
  },
  {
   "cell_type": "markdown",
   "metadata": {},
   "source": [
    "Here is a list of Ks included in this atlas."
   ]
  },
  {
   "cell_type": "code",
   "execution_count": 17,
   "metadata": {},
   "outputs": [
    {
     "name": "stdout",
     "output_type": "stream",
     "text": [
      "[10, 20, 30, 40, 50, 60, 70, 80, 90, 100, 110, 120, 130, 140, 150, 160, 170, 180, 190, 200, 210, 220, 230, 240, 250, 260, 270, 280, 290, 300, 350, 400, 450, 500, 550, 600, 650, 700, 750, 800, 850, 900, 950]\n"
     ]
    }
   ],
   "source": [
    "print(K)"
   ]
  },
  {
   "cell_type": "markdown",
   "metadata": {},
   "source": [
    "From these Ks, we select 5 different Ks."
   ]
  },
  {
   "cell_type": "code",
   "execution_count": 18,
   "metadata": {},
   "outputs": [],
   "source": [
    "subK = [50, 100, 200, 500, 950]   # Ks for example atlases\n",
    "indK = [list(K).index(k) for k in subK]  # indices corresponding to subK"
   ]
  },
  {
   "cell_type": "markdown",
   "metadata": {},
   "source": [
    "And we examine the atlas with different Ks."
   ]
  },
  {
   "cell_type": "code",
   "execution_count": 19,
   "metadata": {},
   "outputs": [
    {
     "data": {
      "image/png": "[encoded data removed]",
      "text/plain": [
       "<Figure size 864x216 with 5 Axes>"
      ]
     },
     "metadata": {
      "needs_background": "light"
     },
     "output_type": "display_data"
    }
   ],
   "source": [
    "# showing the atlas with different Ks\n",
    "X_Rt2[X_Rt2==0] = np.nan  # suppressing the background\n",
    "plt.figure(figsize=[12,3])\n",
    "\n",
    "for i,K in enumerate(subK):\n",
    "    plt.subplot(1,5,i+1)\n",
    "    show_section(X_Rt2[:,:,:,indK[i]], 'xy', 20, nameCmap='rainbow') \n",
    "    plt.title('Atlas with K=' + str(K))\n",
    "\n",
    "plt.show()"
   ]
  },
  {
   "cell_type": "markdown",
   "metadata": {},
   "source": [
    "As you can see, the larger K becomes, the smaller each ROI becomes."
   ]
  },
  {
   "cell_type": "markdown",
   "metadata": {},
   "source": [
    "# 2. Re-slicing atlases\n",
    "<hr style=\"height:1px;border:none\" />\n",
    "\n",
    "Unless you construct your own atlas based on your fMRI data, chances are your atlas has a different dimension and voxel size from your fMRI data. To extract mean ROI time courses using an atlas, it would be a lot easier if the atlas and the fMRI data have the same dimension and voxel size. So a logical step is to re-slice the atlas to match the dimension / voxel size of the fMRI data.\n",
    "\n",
    "I have written a wrapper function to call the **`flirt`** function in the FSL software to re-slice an atlas. "
   ]
  },
  {
   "cell_type": "markdown",
   "metadata": {},
   "source": [
    "`<ReslicingAtlas.py>`"
   ]
  },
  {
   "cell_type": "code",
   "execution_count": 9,
   "metadata": {},
   "outputs": [],
   "source": [
    "import numpy as np\n",
    "import nibabel as nib\n",
    "import os\n",
    "import matplotlib.pyplot as plt\n",
    "\n",
    "\n",
    "###### functions to display 3D image\n",
    "def show_plane(x, nameCmap='gray'):\n",
    "    '''\n",
    "    Function to show a slice (provided as a 2D array)\n",
    "    '''\n",
    "    plt.imshow(x, cmap=nameCmap)\n",
    "    plt.gca().set_axis_off()\n",
    "\n",
    "\n",
    "def show_section(xImg, section, xSlice, nameCmap='gray'):\n",
    "    '''\n",
    "    Function to return a 2D array of a slice from a 3D array.\n",
    "    Slice orientation can be specified by the user.\n",
    "    '''\n",
    "    if section=='xy':\n",
    "        tmpImg = xImg[:,:,xSlice]\n",
    "    elif section=='xz':\n",
    "        tmpImg = xImg[:,xSlice,:]\n",
    "    else:\n",
    "        tmpImg = xImg[xSlice,:,:]\n",
    "    show_plane(np.rot90(tmpImg),nameCmap)\n",
    "\n",
    "\n",
    "\n",
    "####### function to reslice 4D image to a user-specified voxel size & dimension\n",
    "def reslice_fmri(ffMRI, img_dim, vox_sz):\n",
    "    '''a function to reslice the warped fMRI image to desired size.\n",
    "    \n",
    "    This function is necessary since warped fMRI has the same voxel size\n",
    "    as the structural MRI. The resliced image is written with the same file\n",
    "    name as the input file name with _r suffix attached at the end.\n",
    "    \n",
    "    Input parameters:\n",
    "          ffMRI:        The file name of the 4D fMRI data to be resliced.\n",
    "          img_dim:      A 3-element vector describing the number of voxles\n",
    "                        in x, y, and z directions.\n",
    "          vox_sz:       A 3-element vector describing the size of each voxel\n",
    "                        in mm (x, y, and z sizes).\n",
    "    \n",
    "    Returns:\n",
    "          NONE:\n",
    "    '''\n",
    "\n",
    "    # file name business first\n",
    "    WorkDir, fImg = os.path.split(os.path.abspath(ffMRI))\n",
    "    tmpfname, tmpext = os.path.splitext(fImg)\n",
    "    if tmpext == '.gz':\n",
    "        # the extension is .nii.gz\n",
    "        tmpfname, tmpext = os.path.splitext(tmpfname)\n",
    "    # the fake header name\n",
    "    ffakehdr = os.path.join(WorkDir, tmpfname + '_r_tmp')\n",
    "    # the output 4D fMRI data\n",
    "    fout = os.path.join(WorkDir, tmpfname + '_r')\n",
    "    # the identity matrix (a la fsl)\n",
    "    DirFSL = os.environ['FSLDIR']\n",
    "    feye = os.path.join(DirFSL, 'etc/flirtsch/ident.mat')\n",
    "\n",
    "    # then putting together the command to create the fake header\n",
    "    com_hdr = 'fslcreatehd '\n",
    "    for iDim in img_dim:\n",
    "        com_hdr += ' ' + str(iDim)\n",
    "    com_hdr += ' 1'\n",
    "    for iSize in vox_sz:\n",
    "        com_hdr += ' ' + str(iSize)\n",
    "    com_hdr += ' 1 0 0 0 16 ' + ffakehdr\n",
    "    # creating the faek header\n",
    "    res = os.system(com_hdr)\n",
    "\n",
    "    # then putting together the command for flirt for reslicing\n",
    "    com_flirt = 'flirt -in ' + ffMRI\n",
    "    com_flirt += ' -applyxfm -init ' + feye\n",
    "    com_flirt += ' -out ' + fout\n",
    "    com_flirt += ' -paddingsize 0.0'\n",
    "    com_flirt += ' -interp nearestneighbour'\n",
    "    com_flirt += ' -ref ' + ffakehdr\n",
    "    # then calling flirt\n",
    "    res = os.system(com_flirt)\n",
    "\n",
    "    # finally removing the fake header\n",
    "    com_rm = 'rm ' + ffakehdr + '.nii.gz'\n",
    "    res = os.system(com_rm)"
   ]
  },
  {
   "cell_type": "markdown",
   "metadata": {},
   "source": [
    "So, first, extracting the dimension and voxel size from the fMRI data."
   ]
  },
  {
   "cell_type": "code",
   "execution_count": 10,
   "metadata": {},
   "outputs": [],
   "source": [
    "###### Image data files\n",
    "# atlas data files\n",
    "f_atlasAAL = 'DataAtlas/aal_MNI_V4.nii'\n",
    "f_atlasRt2 = 'DataAtlas/tcorr05_2level_all.nii.gz'\n",
    "\n",
    "#fMRI data file (processed)\n",
    "f_fMRI = './DataAtlas/Oxford_sub16112_func2standard_r_bp_reg_ms.nii.gz'\n",
    "\n",
    "\n",
    "\n",
    "##### extracting info from fMRI\n",
    "# loading the fMRI data\n",
    "fMRI = nib.load(f_fMRI)   # image object\n",
    "hdr_fMRI = fMRI.header   # header information\n",
    "dimfMRI = hdr_fMRI.get_data_shape()[:-1]  # xyz dimension in terms of  \n",
    "sizefMRI = hdr_fMRI.get_zooms()[:-1]  # voxel size in mm in xyz directions"
   ]
  },
  {
   "cell_type": "markdown",
   "metadata": {},
   "source": [
    "Then using that information to re-slice the atlas via the `reslice_fmri` (a custom function; see above)."
   ]
  },
  {
   "cell_type": "code",
   "execution_count": 15,
   "metadata": {},
   "outputs": [],
   "source": [
    "##### reslicing the AAL atlas\n",
    "reslice_fmri(f_atlasAAL, dimfMRI, sizefMRI)\n",
    "\n",
    "##### reslicing the Rt2 atlas\n",
    "reslice_fmri(f_atlasRt2, dimfMRI, sizefMRI)"
   ]
  },
  {
   "cell_type": "markdown",
   "metadata": {},
   "source": [
    "For some reason, the AAL atlas doesn't agree with FSL :-(  (Don't worry, I've already created a re-sliced AAL atlas). Now quality control of re-slices atlases."
   ]
  },
  {
   "cell_type": "code",
   "execution_count": 14,
   "metadata": {},
   "outputs": [
    {
     "data": {
      "image/png": "[encoded data removed]",
      "text/plain": [
       "<Figure size 648x288 with 3 Axes>"
      ]
     },
     "metadata": {
      "needs_background": "light"
     },
     "output_type": "display_data"
    }
   ],
   "source": [
    "##### Quality control\n",
    "f_atlasAAL_r = 'DataAtlas/aal_MNI_V4_r.nii.gz'\n",
    "f_atlasRt2_r = 'DataAtlas/tcorr05_2level_all_r.nii.gz'\n",
    "AAL = nib.load(f_atlasAAL_r)   # image object\n",
    "Rt2 = nib.load(f_atlasRt2_r)   # image object\n",
    "\n",
    "X_fMRI = fMRI.get_data()\n",
    "X_AAL = AAL.get_data()\n",
    "X_Rt2 = Rt2.get_data()\n",
    "\n",
    "\n",
    "zSlice = 22\n",
    "plt.figure(figsize=[9,4])\n",
    "\n",
    "plt.subplot(131)\n",
    "show_section(X_fMRI[:,:,:,1],'xy',zSlice)\n",
    "plt.title('fMRI data')\n",
    "\n",
    "plt.subplot(132)\n",
    "show_section(X_AAL,'xy',zSlice, nameCmap='rainbow')\n",
    "plt.title('AAL atlas')\n",
    "\n",
    "plt.subplot(133)\n",
    "show_section(X_Rt2[:,:,:,20],'xy',zSlice, nameCmap='rainbow')\n",
    "plt.title('Rt2 atlas')\n",
    "\n",
    "plt.show()"
   ]
  },
  {
   "cell_type": "markdown",
   "metadata": {},
   "source": [
    "* Data (explain atlases)\n",
    "* Header info (voxel size, dim)\n",
    "* Image data\n",
    "* Reslicing the atlas\n",
    "* forming a network\n",
    "  * Extracting mean time course\n",
    "  * Correlation matrix\n",
    "  * Thresholding\n",
    "* Network characteristics\n",
    "  * Small-worldness\n",
    "  * Centrality\n",
    "  * Modularity\n",
    " "
   ]
  },
  {
   "cell_type": "code",
   "execution_count": null,
   "metadata": {},
   "outputs": [],
   "source": []
  }
 ],
 "metadata": {
  "kernelspec": {
   "display_name": "Python 3",
   "language": "python",
   "name": "python3"
  },
  "language_info": {
   "codemirror_mode": {
    "name": "ipython",
    "version": 3
   },
   "file_extension": ".py",
   "mimetype": "text/x-python",
   "name": "python",
   "nbconvert_exporter": "python",
   "pygments_lexer": "ipython3",
   "version": "3.6.7"
  }
 },
 "nbformat": 4,
 "nbformat_minor": 2
}
