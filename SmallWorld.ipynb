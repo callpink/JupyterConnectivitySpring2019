{
 "cells": [
  {
   "cell_type": "markdown",
   "metadata": {},
   "source": [
    "<p style=\"text-align:center\">\n",
    "PSY 381D <b>Brain Connectivity</b>, Spring 2019\n",
    "\n",
    "\n",
    "<img style=\"width: 700px; padding: 0px;\" src=\"https://github.com/sathayas/JupyterConnectivitySpring2019/blob/master/Images/Banner.png?raw=true\" alt=\"title pics\"/>\n",
    "\n",
    "</p>\n",
    "\n",
    "<p style=\"text-align:center; font-size:40px; margin-bottom: 30px;\"><b> Small-world networks</b></p>\n",
    "\n",
    "<p style=\"text-align:center; font-size:18px; margin-bottom: 32px;\"><b>February 4, 2019</b></p>\n",
    "\n",
    "<hr style=\"height:5px;border:none\" />"
   ]
  },
  {
   "cell_type": "markdown",
   "metadata": {},
   "source": [
    "# Network data\n",
    "<hr style=\"height:1px;border:none\" />\n",
    "\n",
    "We will be examining these network data for today's exercises. They are available in the **`DataSmallWorld`** directory.\n",
    "* C. Elegans neural network (`CElegans.adjlist`)\n",
    "* Power grid (`power.gml`)\n",
    "* Brain network (resting-state fMRI)\n",
    "   * ROI network (`Oxford_sub16112_aal90_d5.adjlist`)\n",
    "   * Voxel network (`Oxford_sub16112_voxel_d20.adjlist`)"
   ]
  },
  {
   "cell_type": "markdown",
   "metadata": {},
   "source": [
    "`<NetworkSize.py>`"
   ]
  },
  {
   "cell_type": "code",
   "execution_count": 1,
   "metadata": {},
   "outputs": [],
   "source": [
    "import networkx as nx\n",
    "import matplotlib.pyplot as plt\n",
    "import numpy as np\n",
    "\n",
    "##### loading the network data\n",
    "# C Elegans neural network\n",
    "G_CEleg = nx.read_adjlist('DataSmallWorld/CElegans.adjlist')\n",
    "# Power grid\n",
    "G_Power = nx.read_gml('DataSmallWorld/power.gml', label='id')\n",
    "# Brain (ROI)\n",
    "G_ROI = nx.read_adjlist('DataSmallWorld/Oxford_sub16112_aal90_d5.adjlist')\n",
    "# Brain (Voxel)\n",
    "G_Voxel = nx.read_adjlist('DataSmallWorld/Oxford_sub16112_voxel_d20.adjlist')\n"
   ]
  },
  {
   "cell_type": "markdown",
   "metadata": {},
   "source": [
    "   \n",
    "### Exercise\n",
    "**Number of nodes & edges**: Find the missing numbers in the table below, by determining the number of nodes or edges, or the average degree (2 $\\times$ number of edges divided by the number of nodes). ***Post the numbers on Canvas.***\n",
    "\n",
    "<table>\n",
    "<tr>\n",
    "<th style=\"text-align:left\">Network</th>\n",
    "<th style=\"text-align:center\">Number of nodes</th>\n",
    "<th style=\"text-align:center\">Number of edges</th>\n",
    "<th style=\"text-align:center\">Average degree</th>\n",
    "</tr>\n",
    "<tr>\n",
    "<td style=\"text-align:left\">C. Elegans</td>\n",
    "<td style=\"text-align:center\">297</td>\n",
    "<td style=\"text-align:center\">2148</td>\n",
    "<td style=\"text-align:center\"><b>(a)</b></td>\n",
    "</tr>\n",
    "<tr>\n",
    "<td style=\"text-align:left\">Power grid</td>\n",
    "<td style=\"text-align:center\"><b>(b)</b></td>\n",
    "<td style=\"text-align:center\">6594</td>\n",
    "<td style=\"text-align:center\">2.7</td>\n",
    "</tr>\n",
    "<tr>\n",
    "<td style=\"text-align:left\">Brain (ROI)</td>\n",
    "<td style=\"text-align:center\">90</td>\n",
    "<td style=\"text-align:center\"><b>(c)</b></td>\n",
    "<td style=\"text-align:center\"><b>(d)</b></td>\n",
    "</tr>\n",
    "<tr>\n",
    "<td style=\"text-align:left\">Brain (Voxel)</td>\n",
    "<td style=\"text-align:center\"><b>(e)</b></td>\n",
    "<td style=\"text-align:center\">295219</td>\n",
    "<td style=\"text-align:center\">30.7</td>\n",
    "</tr>\n",
    "</table>"
   ]
  },
  {
   "cell_type": "markdown",
   "metadata": {},
   "source": [
    "# Clustering coefficient\n",
    "<hr style=\"height:1px;border:none\" />\n",
    "\n",
    "The **clustering coefficient** of a network can be calculated by the **`average_clustering`** function."
   ]
  },
  {
   "cell_type": "markdown",
   "metadata": {},
   "source": [
    "`<ClusteringCoefficient.py>`"
   ]
  },
  {
   "cell_type": "code",
   "execution_count": 2,
   "metadata": {},
   "outputs": [
    {
     "name": "stdout",
     "output_type": "stream",
     "text": [
      "Clustering coefficients\n",
      "C. Elegans: 0.29\n",
      "Power grid: 0.080\n",
      "Brain (ROI): 0.51\n",
      "Brain (Voxel): 0.27\n"
     ]
    }
   ],
   "source": [
    "##### Clustering coefficients\n",
    "print('Clustering coefficients')\n",
    "print('C. Elegans: %4.2f' % nx.average_clustering(G_CEleg))\n",
    "print('Power grid: %5.3f' % nx.average_clustering(G_Power))\n",
    "print('Brain (ROI): %4.2f' % nx.average_clustering(G_ROI))\n",
    "print('Brain (Voxel): %4.2f' % nx.average_clustering(G_Voxel))"
   ]
  },
  {
   "cell_type": "markdown",
   "metadata": {},
   "source": [
    "# Path length\n",
    "<hr style=\"height:1px;border:none\" />\n",
    "\n",
    "The average shortest path length (or simply referred as **path length**) of a network can be calculated by the **`average_shortest_path_length`** function. *Calculation of path length is computationally very demanding, especially for a large network or a densely connected network*. "
   ]
  },
  {
   "cell_type": "markdown",
   "metadata": {},
   "source": [
    "`<PathLength.py>`"
   ]
  },
  {
   "cell_type": "code",
   "execution_count": 3,
   "metadata": {},
   "outputs": [
    {
     "name": "stdout",
     "output_type": "stream",
     "text": [
      "Average shortest path lengths\n",
      "C. Elegans: 2.46\n",
      "Power grid: 18.99\n"
     ]
    },
    {
     "ename": "NetworkXError",
     "evalue": "Graph is not connected.",
     "output_type": "error",
     "traceback": [
      "\u001b[0;31m---------------------------------------------------------------------------\u001b[0m",
      "\u001b[0;31mNetworkXError\u001b[0m                             Traceback (most recent call last)",
      "\u001b[0;32m<ipython-input-3-06127fafa5f2>\u001b[0m in \u001b[0;36m<module>\u001b[0;34m\u001b[0m\n\u001b[1;32m      3\u001b[0m \u001b[0mprint\u001b[0m\u001b[0;34m(\u001b[0m\u001b[0;34m'C. Elegans: %4.2f'\u001b[0m \u001b[0;34m%\u001b[0m \u001b[0mnx\u001b[0m\u001b[0;34m.\u001b[0m\u001b[0maverage_shortest_path_length\u001b[0m\u001b[0;34m(\u001b[0m\u001b[0mG_CEleg\u001b[0m\u001b[0;34m)\u001b[0m\u001b[0;34m)\u001b[0m\u001b[0;34m\u001b[0m\u001b[0;34m\u001b[0m\u001b[0m\n\u001b[1;32m      4\u001b[0m \u001b[0mprint\u001b[0m\u001b[0;34m(\u001b[0m\u001b[0;34m'Power grid: %4.2f'\u001b[0m \u001b[0;34m%\u001b[0m \u001b[0mnx\u001b[0m\u001b[0;34m.\u001b[0m\u001b[0maverage_shortest_path_length\u001b[0m\u001b[0;34m(\u001b[0m\u001b[0mG_Power\u001b[0m\u001b[0;34m)\u001b[0m\u001b[0;34m)\u001b[0m\u001b[0;34m\u001b[0m\u001b[0;34m\u001b[0m\u001b[0m\n\u001b[0;32m----> 5\u001b[0;31m \u001b[0mprint\u001b[0m\u001b[0;34m(\u001b[0m\u001b[0;34m'Brain (ROI): %4.2f'\u001b[0m \u001b[0;34m%\u001b[0m \u001b[0mnx\u001b[0m\u001b[0;34m.\u001b[0m\u001b[0maverage_shortest_path_length\u001b[0m\u001b[0;34m(\u001b[0m\u001b[0mG_ROI\u001b[0m\u001b[0;34m)\u001b[0m\u001b[0;34m)\u001b[0m\u001b[0;34m\u001b[0m\u001b[0;34m\u001b[0m\u001b[0m\n\u001b[0m\u001b[1;32m      6\u001b[0m \u001b[0mprint\u001b[0m\u001b[0;34m(\u001b[0m\u001b[0;34m'Brain (Voxel): %4.2f'\u001b[0m \u001b[0;34m%\u001b[0m \u001b[0mnx\u001b[0m\u001b[0;34m.\u001b[0m\u001b[0maverage_shortest_path_length\u001b[0m\u001b[0;34m(\u001b[0m\u001b[0mG_Voxel\u001b[0m\u001b[0;34m)\u001b[0m\u001b[0;34m)\u001b[0m\u001b[0;34m\u001b[0m\u001b[0;34m\u001b[0m\u001b[0m\n",
      "\u001b[0;32m/usr/local/lib/python3.6/dist-packages/networkx/algorithms/shortest_paths/generic.py\u001b[0m in \u001b[0;36maverage_shortest_path_length\u001b[0;34m(G, weight, method)\u001b[0m\n\u001b[1;32m    391\u001b[0m         \u001b[0;32mraise\u001b[0m \u001b[0mnx\u001b[0m\u001b[0;34m.\u001b[0m\u001b[0mNetworkXError\u001b[0m\u001b[0;34m(\u001b[0m\u001b[0;34m\"Graph is not weakly connected.\"\u001b[0m\u001b[0;34m)\u001b[0m\u001b[0;34m\u001b[0m\u001b[0;34m\u001b[0m\u001b[0m\n\u001b[1;32m    392\u001b[0m     \u001b[0;32mif\u001b[0m \u001b[0;32mnot\u001b[0m \u001b[0mG\u001b[0m\u001b[0;34m.\u001b[0m\u001b[0mis_directed\u001b[0m\u001b[0;34m(\u001b[0m\u001b[0;34m)\u001b[0m \u001b[0;32mand\u001b[0m \u001b[0;32mnot\u001b[0m \u001b[0mnx\u001b[0m\u001b[0;34m.\u001b[0m\u001b[0mis_connected\u001b[0m\u001b[0;34m(\u001b[0m\u001b[0mG\u001b[0m\u001b[0;34m)\u001b[0m\u001b[0;34m:\u001b[0m\u001b[0;34m\u001b[0m\u001b[0;34m\u001b[0m\u001b[0m\n\u001b[0;32m--> 393\u001b[0;31m         \u001b[0;32mraise\u001b[0m \u001b[0mnx\u001b[0m\u001b[0;34m.\u001b[0m\u001b[0mNetworkXError\u001b[0m\u001b[0;34m(\u001b[0m\u001b[0;34m\"Graph is not connected.\"\u001b[0m\u001b[0;34m)\u001b[0m\u001b[0;34m\u001b[0m\u001b[0;34m\u001b[0m\u001b[0m\n\u001b[0m\u001b[1;32m    394\u001b[0m     \u001b[0;31m# Compute all-pairs shortest paths.\u001b[0m\u001b[0;34m\u001b[0m\u001b[0;34m\u001b[0m\u001b[0;34m\u001b[0m\u001b[0m\n\u001b[1;32m    395\u001b[0m \u001b[0;34m\u001b[0m\u001b[0m\n",
      "\u001b[0;31mNetworkXError\u001b[0m: Graph is not connected."
     ]
    }
   ],
   "source": [
    "##### Path Length\n",
    "print('Average shortest path lengths')\n",
    "print('C. Elegans: %4.2f' % nx.average_shortest_path_length(G_CEleg))\n",
    "print('Power grid: %4.2f' % nx.average_shortest_path_length(G_Power))\n",
    "print('Brain (ROI): %4.2f' % nx.average_shortest_path_length(G_ROI))\n",
    "print('Brain (Voxel): %4.2f' % nx.average_shortest_path_length(G_Voxel))"
   ]
  },
  {
   "cell_type": "markdown",
   "metadata": {},
   "source": [
    "You see an error. This is because the brain network (ROI) is not **connected**. (**Connected:** all nodes are connected to a single network without any disconnected component). Path length cannot be calculated if some nodes cannot be reached from some other nodes due to disconnection. \n",
    "\n",
    "We can check the connected component sizes using **`connected_components`** function."
   ]
  },
  {
   "cell_type": "code",
   "execution_count": 4,
   "metadata": {},
   "outputs": [
    {
     "name": "stdout",
     "output_type": "stream",
     "text": [
      "Brain (ROI), connected component sizes:  [89, 1]\n"
     ]
    }
   ],
   "source": [
    "#### Checking the connected components\n",
    "ccSize_ROI = [len(c) for c in sorted(nx.connected_components(G_ROI),\n",
    "                                     key=len,\n",
    "                                     reverse=True)]\n",
    "print('Brain (ROI), connected component sizes: ', ccSize_ROI)"
   ]
  },
  {
   "cell_type": "code",
   "execution_count": null,
   "metadata": {},
   "outputs": [],
   "source": [
    "ccSize_Voxel = [len(c) for c in sorted(nx.connected_components(G_Voxel),\n",
    "                                       key=len,\n",
    "                                       reverse=True)]\n",
    "print('Brain (Voxel), connected component sizes: ', ccSize_Voxel)"
   ]
  },
  {
   "cell_type": "markdown",
   "metadata": {},
   "source": [
    "We can calculate the path length on the largest connected component (a.k.a., **giant component**) only."
   ]
  },
  {
   "cell_type": "code",
   "execution_count": 6,
   "metadata": {},
   "outputs": [],
   "source": [
    "##### Path length, giant component only\n",
    "GC_nodes_ROI = max(nx.connected_components(G_ROI), key=len)  # nodes in giant component\n",
    "GC_ROI = G_ROI.subgraph(GC_nodes_ROI)  # nodes & edges in giant component"
   ]
  },
  {
   "cell_type": "markdown",
   "metadata": {},
   "source": [
    "The network **`GC_ROI`** only contains nodes and edges in the giant component."
   ]
  },
  {
   "cell_type": "code",
   "execution_count": 7,
   "metadata": {},
   "outputs": [
    {
     "data": {
      "text/plain": [
       "89"
      ]
     },
     "execution_count": 7,
     "metadata": {},
     "output_type": "execute_result"
    }
   ],
   "source": [
    "len(GC_ROI.nodes())"
   ]
  },
  {
   "cell_type": "code",
   "execution_count": 8,
   "metadata": {},
   "outputs": [
    {
     "data": {
      "text/plain": [
       "279"
      ]
     },
     "execution_count": 8,
     "metadata": {},
     "output_type": "execute_result"
    }
   ],
   "source": [
    "len(GC_ROI.edges())"
   ]
  },
  {
   "cell_type": "code",
   "execution_count": 9,
   "metadata": {},
   "outputs": [
    {
     "name": "stdout",
     "output_type": "stream",
     "text": [
      "Path length, brain (ROI): 3.76\n"
     ]
    }
   ],
   "source": [
    "print('Path length, brain (ROI): %4.2f'  % nx.average_shortest_path_length(GC_ROI))"
   ]
  },
  {
   "cell_type": "markdown",
   "metadata": {},
   "source": [
    "### Exercise\n",
    "**Path length, brain (voxel) network**: Calculate the number of nodes and edges, as well as the path length of the giant component of the brain (voxel) network. ***Post the numbers on Canvas.***"
   ]
  },
  {
   "cell_type": "markdown",
   "metadata": {},
   "source": [
    "# Standardized clustering coefficient and path length\n",
    "<hr style=\"height:1px;border:none\" />\n",
    "\n",
    "You may notice by now that the magnitude of clustering coefficients C and path lengths L varies tremendously for different networks. To determine whether a network exhibits *small-world* characteristics, it is necessary to compare C and L against that obtained from an equivalent random network (with the same number of nodes, edges, and degree sequence).\n",
    "\n",
    "## Random network with a given degree sequence\n",
    "It is important to compare C and L from a network of interest to an equivalent random network with matching nodes, edges, and degree sequence. This is to rule out any difference between the two networks due to the difference in the availability of nodes / edges and how they are connected. In other words, we want to compare an apple with another apple (an apple lacking the organization principle).\n",
    "\n",
    "We can generate an equivalent random network by degree-preserving re-wiring (Maslov & Sneppen) \n",
    "* Figure for rewiring\n",
    "* Degree sequence, before & after\n",
    "* Connected network -- hard to guarantee \n",
    "   * Giant component only\n",
    "* Examples\n",
    "* Small-worldness by Humphries"
   ]
  },
  {
   "cell_type": "markdown",
   "metadata": {},
   "source": [
    "\n",
    "* Clustering & path length\n",
    "   * Real networks\n",
    "   * Random networks\n",
    "      * ER network\n",
    "      * WS network\n",
    "* Small-worldness\n",
    "   * Random model\n",
    "      * Theoretical (Watts & Strogatz)\n",
    "         * Degree distribution\n",
    "      * Re-wired model (Maslov & Sneppen)\n",
    "* Brain networks (fMRI)\n",
    "    * ROI network\n",
    "         * with and without disconnected\n",
    "    * Voxel network\n"
   ]
  }
 ],
 "metadata": {
  "kernelspec": {
   "display_name": "Python 3",
   "language": "python",
   "name": "python3"
  },
  "language_info": {
   "codemirror_mode": {
    "name": "ipython",
    "version": 3
   },
   "file_extension": ".py",
   "mimetype": "text/x-python",
   "name": "python",
   "nbconvert_exporter": "python",
   "pygments_lexer": "ipython3",
   "version": "3.6.7"
  }
 },
 "nbformat": 4,
 "nbformat_minor": 2
}
