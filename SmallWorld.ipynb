{
 "cells": [
  {
   "cell_type": "markdown",
   "metadata": {},
   "source": [
    "<p style=\"text-align:center\">\n",
    "PSY 381D <b>Brain Connectivity</b>, Spring 2019\n",
    "\n",
    "\n",
    "<img style=\"width: 700px; padding: 0px;\" src=\"https://github.com/sathayas/JupyterConnectivitySpring2019/blob/master/Images/Banner.png?raw=true\" alt=\"title pics\"/>\n",
    "\n",
    "</p>\n",
    "\n",
    "<p style=\"text-align:center; font-size:40px; margin-bottom: 30px;\"><b> Small-world networks</b></p>\n",
    "\n",
    "<p style=\"text-align:center; font-size:18px; margin-bottom: 32px;\"><b>February 4, 2019</b></p>\n",
    "\n",
    "<hr style=\"height:5px;border:none\" />"
   ]
  },
  {
   "cell_type": "markdown",
   "metadata": {},
   "source": [
    "# Network data\n",
    "<hr style=\"height:1px;border:none\" />\n",
    "\n",
    "We will be examining these network data for today's exercises. They are available in the **`DataSmallWorld`** directory.\n",
    "* C. Elegans neural network (`CElegans.adjlist`)\n",
    "* Power grid (`power.gml`)\n",
    "* Brain network (resting-state fMRI)\n",
    "   * ROI network (`Oxford_sub16112_aal90_d5.adjlist`)\n",
    "   * Voxel network (`Oxford_sub16112_voxel_d20.adjlist`)"
   ]
  },
  {
   "cell_type": "markdown",
   "metadata": {},
   "source": [
    "`<NetworkSize.py>`"
   ]
  },
  {
   "cell_type": "code",
   "execution_count": 16,
   "metadata": {},
   "outputs": [],
   "source": [
    "import networkx as nx\n",
    "import matplotlib.pyplot as plt\n",
    "import numpy as np\n",
    "\n",
    "##### loading the network data\n",
    "# C Elegans neural network\n",
    "G_CEleg = nx.read_adjlist('DataSmallWorld/CElegans.adjlist')\n",
    "# Power grid\n",
    "G_Power = nx.read_gml('DataSmallWorld/power.gml', label='id')\n",
    "# Brain (ROI)\n",
    "G_ROI = nx.read_adjlist('DataSmallWorld/Oxford_sub16112_aal90_d5.adjlist')\n",
    "# Brain (Voxel)\n",
    "G_Voxel = nx.read_adjlist('DataSmallWorld/Oxford_sub16112_voxel_d20.adjlist')\n"
   ]
  },
  {
   "cell_type": "markdown",
   "metadata": {},
   "source": [
    "   \n",
    "### Exercise\n",
    "**Number of nodes & edges**: Find the missing numbers in the table below, by determining the number of nodes or edges, or the average degree (2 $\\times$ number of edges divided by the number of nodes). ***Post the numbers on Canvas.***\n",
    "\n",
    "<table>\n",
    "<tr>\n",
    "<th style=\"text-align:left\">Network</th>\n",
    "<th style=\"text-align:center\">Number of nodes</th>\n",
    "<th style=\"text-align:center\">Number of edges</th>\n",
    "<th style=\"text-align:center\">Average degree</th>\n",
    "</tr>\n",
    "<tr>\n",
    "<td style=\"text-align:left\">C. Elegans</td>\n",
    "<td style=\"text-align:center\">297</td>\n",
    "<td style=\"text-align:center\">2148</td>\n",
    "<td style=\"text-align:center\"><b>(a)</b></td>\n",
    "</tr>\n",
    "<tr>\n",
    "<td style=\"text-align:left\">Power grid</td>\n",
    "<td style=\"text-align:center\"><b>(b)</b></td>\n",
    "<td style=\"text-align:center\">6594</td>\n",
    "<td style=\"text-align:center\">2.7</td>\n",
    "</tr>\n",
    "<tr>\n",
    "<td style=\"text-align:left\">Brain (ROI)</td>\n",
    "<td style=\"text-align:center\">90</td>\n",
    "<td style=\"text-align:center\"><b>(c)</b></td>\n",
    "<td style=\"text-align:center\"><b>(d)</b></td>\n",
    "</tr>\n",
    "<tr>\n",
    "<td style=\"text-align:left\">Brain (Voxel)</td>\n",
    "<td style=\"text-align:center\"><b>(e)</b></td>\n",
    "<td style=\"text-align:center\">295219</td>\n",
    "<td style=\"text-align:center\">30.7</td>\n",
    "</tr>\n",
    "</table>"
   ]
  },
  {
   "cell_type": "markdown",
   "metadata": {},
   "source": [
    "# Clustering coefficient\n",
    "<hr style=\"height:1px;border:none\" />\n",
    "\n",
    "The **clustering coefficient** of a network can be calculated by the **`average_clustering`** function."
   ]
  },
  {
   "cell_type": "markdown",
   "metadata": {},
   "source": [
    "`<ClusteringCoefficient.py>`"
   ]
  },
  {
   "cell_type": "code",
   "execution_count": 2,
   "metadata": {},
   "outputs": [
    {
     "name": "stdout",
     "output_type": "stream",
     "text": [
      "Clustering coefficients\n",
      "C. Elegans: 0.29\n",
      "Power grid: 0.080\n",
      "Brain (ROI): 0.51\n",
      "Brain (Voxel): 0.27\n"
     ]
    }
   ],
   "source": [
    "##### Clustering coefficients\n",
    "print('Clustering coefficients')\n",
    "print('C. Elegans: %4.2f' % nx.average_clustering(G_CEleg))\n",
    "print('Power grid: %5.3f' % nx.average_clustering(G_Power))\n",
    "print('Brain (ROI): %4.2f' % nx.average_clustering(G_ROI))\n",
    "print('Brain (Voxel): %4.2f' % nx.average_clustering(G_Voxel))"
   ]
  },
  {
   "cell_type": "markdown",
   "metadata": {},
   "source": [
    "# Path length\n",
    "<hr style=\"height:1px;border:none\" />\n",
    "\n",
    "The average shortest path length (or simply referred as **path length**) of a network can be calculated by the **`average_shortest_path_length`** function. *Calculation of path length is computationally very demanding, especially for a large network or a densely connected network*. "
   ]
  },
  {
   "cell_type": "markdown",
   "metadata": {},
   "source": [
    "`<PathLength.py>`"
   ]
  },
  {
   "cell_type": "code",
   "execution_count": 3,
   "metadata": {},
   "outputs": [
    {
     "name": "stdout",
     "output_type": "stream",
     "text": [
      "Average shortest path lengths\n",
      "C. Elegans: 2.46\n",
      "Power grid: 18.99\n"
     ]
    },
    {
     "ename": "NetworkXError",
     "evalue": "Graph is not connected.",
     "output_type": "error",
     "traceback": [
      "\u001b[0;31m---------------------------------------------------------------------------\u001b[0m",
      "\u001b[0;31mNetworkXError\u001b[0m                             Traceback (most recent call last)",
      "\u001b[0;32m<ipython-input-3-06127fafa5f2>\u001b[0m in \u001b[0;36m<module>\u001b[0;34m\u001b[0m\n\u001b[1;32m      3\u001b[0m \u001b[0mprint\u001b[0m\u001b[0;34m(\u001b[0m\u001b[0;34m'C. Elegans: %4.2f'\u001b[0m \u001b[0;34m%\u001b[0m \u001b[0mnx\u001b[0m\u001b[0;34m.\u001b[0m\u001b[0maverage_shortest_path_length\u001b[0m\u001b[0;34m(\u001b[0m\u001b[0mG_CEleg\u001b[0m\u001b[0;34m)\u001b[0m\u001b[0;34m)\u001b[0m\u001b[0;34m\u001b[0m\u001b[0;34m\u001b[0m\u001b[0m\n\u001b[1;32m      4\u001b[0m \u001b[0mprint\u001b[0m\u001b[0;34m(\u001b[0m\u001b[0;34m'Power grid: %4.2f'\u001b[0m \u001b[0;34m%\u001b[0m \u001b[0mnx\u001b[0m\u001b[0;34m.\u001b[0m\u001b[0maverage_shortest_path_length\u001b[0m\u001b[0;34m(\u001b[0m\u001b[0mG_Power\u001b[0m\u001b[0;34m)\u001b[0m\u001b[0;34m)\u001b[0m\u001b[0;34m\u001b[0m\u001b[0;34m\u001b[0m\u001b[0m\n\u001b[0;32m----> 5\u001b[0;31m \u001b[0mprint\u001b[0m\u001b[0;34m(\u001b[0m\u001b[0;34m'Brain (ROI): %4.2f'\u001b[0m \u001b[0;34m%\u001b[0m \u001b[0mnx\u001b[0m\u001b[0;34m.\u001b[0m\u001b[0maverage_shortest_path_length\u001b[0m\u001b[0;34m(\u001b[0m\u001b[0mG_ROI\u001b[0m\u001b[0;34m)\u001b[0m\u001b[0;34m)\u001b[0m\u001b[0;34m\u001b[0m\u001b[0;34m\u001b[0m\u001b[0m\n\u001b[0m\u001b[1;32m      6\u001b[0m \u001b[0mprint\u001b[0m\u001b[0;34m(\u001b[0m\u001b[0;34m'Brain (Voxel): %4.2f'\u001b[0m \u001b[0;34m%\u001b[0m \u001b[0mnx\u001b[0m\u001b[0;34m.\u001b[0m\u001b[0maverage_shortest_path_length\u001b[0m\u001b[0;34m(\u001b[0m\u001b[0mG_Voxel\u001b[0m\u001b[0;34m)\u001b[0m\u001b[0;34m)\u001b[0m\u001b[0;34m\u001b[0m\u001b[0;34m\u001b[0m\u001b[0m\n",
      "\u001b[0;32m/usr/local/lib/python3.6/dist-packages/networkx/algorithms/shortest_paths/generic.py\u001b[0m in \u001b[0;36maverage_shortest_path_length\u001b[0;34m(G, weight, method)\u001b[0m\n\u001b[1;32m    391\u001b[0m         \u001b[0;32mraise\u001b[0m \u001b[0mnx\u001b[0m\u001b[0;34m.\u001b[0m\u001b[0mNetworkXError\u001b[0m\u001b[0;34m(\u001b[0m\u001b[0;34m\"Graph is not weakly connected.\"\u001b[0m\u001b[0;34m)\u001b[0m\u001b[0;34m\u001b[0m\u001b[0;34m\u001b[0m\u001b[0m\n\u001b[1;32m    392\u001b[0m     \u001b[0;32mif\u001b[0m \u001b[0;32mnot\u001b[0m \u001b[0mG\u001b[0m\u001b[0;34m.\u001b[0m\u001b[0mis_directed\u001b[0m\u001b[0;34m(\u001b[0m\u001b[0;34m)\u001b[0m \u001b[0;32mand\u001b[0m \u001b[0;32mnot\u001b[0m \u001b[0mnx\u001b[0m\u001b[0;34m.\u001b[0m\u001b[0mis_connected\u001b[0m\u001b[0;34m(\u001b[0m\u001b[0mG\u001b[0m\u001b[0;34m)\u001b[0m\u001b[0;34m:\u001b[0m\u001b[0;34m\u001b[0m\u001b[0;34m\u001b[0m\u001b[0m\n\u001b[0;32m--> 393\u001b[0;31m         \u001b[0;32mraise\u001b[0m \u001b[0mnx\u001b[0m\u001b[0;34m.\u001b[0m\u001b[0mNetworkXError\u001b[0m\u001b[0;34m(\u001b[0m\u001b[0;34m\"Graph is not connected.\"\u001b[0m\u001b[0;34m)\u001b[0m\u001b[0;34m\u001b[0m\u001b[0;34m\u001b[0m\u001b[0m\n\u001b[0m\u001b[1;32m    394\u001b[0m     \u001b[0;31m# Compute all-pairs shortest paths.\u001b[0m\u001b[0;34m\u001b[0m\u001b[0;34m\u001b[0m\u001b[0;34m\u001b[0m\u001b[0m\n\u001b[1;32m    395\u001b[0m \u001b[0;34m\u001b[0m\u001b[0m\n",
      "\u001b[0;31mNetworkXError\u001b[0m: Graph is not connected."
     ]
    }
   ],
   "source": [
    "##### Path Length\n",
    "print('Average shortest path lengths')\n",
    "print('C. Elegans: %4.2f' % nx.average_shortest_path_length(G_CEleg))\n",
    "print('Power grid: %4.2f' % nx.average_shortest_path_length(G_Power))\n",
    "print('Brain (ROI): %4.2f' % nx.average_shortest_path_length(G_ROI))\n",
    "print('Brain (Voxel): %4.2f' % nx.average_shortest_path_length(G_Voxel))"
   ]
  },
  {
   "cell_type": "markdown",
   "metadata": {},
   "source": [
    "You see an error. This is because the brain network (ROI) is not **connected**. (**Connected:** all nodes are connected to a single network without any disconnected component). Path length cannot be calculated if some nodes cannot be reached from some other nodes due to disconnection. \n",
    "\n",
    "We can check the connected component sizes using **`connected_components`** function."
   ]
  },
  {
   "cell_type": "code",
   "execution_count": 4,
   "metadata": {},
   "outputs": [
    {
     "name": "stdout",
     "output_type": "stream",
     "text": [
      "Brain (ROI), connected component sizes:  [89, 1]\n"
     ]
    }
   ],
   "source": [
    "#### Checking the connected components\n",
    "ccSize_ROI = [len(c) for c in sorted(nx.connected_components(G_ROI),\n",
    "                                     key=len,\n",
    "                                     reverse=True)]\n",
    "print('Brain (ROI), connected component sizes: ', ccSize_ROI)"
   ]
  },
  {
   "cell_type": "code",
   "execution_count": null,
   "metadata": {},
   "outputs": [],
   "source": [
    "ccSize_Voxel = [len(c) for c in sorted(nx.connected_components(G_Voxel),\n",
    "                                       key=len,\n",
    "                                       reverse=True)]\n",
    "print('Brain (Voxel), connected component sizes: ', ccSize_Voxel)"
   ]
  },
  {
   "cell_type": "markdown",
   "metadata": {},
   "source": [
    "We can calculate the path length on the largest connected component (a.k.a., **giant component**) only."
   ]
  },
  {
   "cell_type": "code",
   "execution_count": 6,
   "metadata": {},
   "outputs": [],
   "source": [
    "##### Path length, giant component only\n",
    "GC_nodes_ROI = max(nx.connected_components(G_ROI), key=len)  # nodes in giant component\n",
    "GC_ROI = G_ROI.subgraph(GC_nodes_ROI)  # nodes & edges in giant component"
   ]
  },
  {
   "cell_type": "markdown",
   "metadata": {},
   "source": [
    "The network **`GC_ROI`** only contains nodes and edges in the giant component."
   ]
  },
  {
   "cell_type": "code",
   "execution_count": 7,
   "metadata": {},
   "outputs": [
    {
     "data": {
      "text/plain": [
       "89"
      ]
     },
     "execution_count": 7,
     "metadata": {},
     "output_type": "execute_result"
    }
   ],
   "source": [
    "len(GC_ROI.nodes())"
   ]
  },
  {
   "cell_type": "code",
   "execution_count": 8,
   "metadata": {},
   "outputs": [
    {
     "data": {
      "text/plain": [
       "279"
      ]
     },
     "execution_count": 8,
     "metadata": {},
     "output_type": "execute_result"
    }
   ],
   "source": [
    "len(GC_ROI.edges())"
   ]
  },
  {
   "cell_type": "code",
   "execution_count": 9,
   "metadata": {},
   "outputs": [
    {
     "name": "stdout",
     "output_type": "stream",
     "text": [
      "Path length, brain (ROI): 3.76\n"
     ]
    }
   ],
   "source": [
    "print('Path length, brain (ROI): %4.2f'  % nx.average_shortest_path_length(GC_ROI))"
   ]
  },
  {
   "cell_type": "markdown",
   "metadata": {},
   "source": [
    "### Exercise\n",
    "**Path length, brain (voxel) network**: Calculate the number of nodes and edges, as well as the path length of the giant component of the brain (voxel) network. ***Post the numbers on Canvas.***"
   ]
  },
  {
   "cell_type": "markdown",
   "metadata": {},
   "source": [
    "# Standardized clustering coefficient and path length\n",
    "<hr style=\"height:1px;border:none\" />\n",
    "\n",
    "You may notice by now that the magnitude of clustering coefficients C and path lengths L varies tremendously for different networks. To determine whether a network exhibits *small-world* characteristics, it is necessary to compare C and L against that obtained from an equivalent random network (with the same number of nodes, edges, and degree sequence).\n",
    "\n",
    "## Random network with a given degree sequence\n",
    "It is important to compare C and L from a network of interest to an equivalent random network with matching nodes, edges, and degree sequence. This is to rule out any difference between the two networks due to the difference in the availability of nodes / edges and how they are connected. In other words, we want to compare an apple with another apple (an apple lacking the organization principle).\n",
    "\n",
    "We can generate an equivalent random network by degree-preserving re-wiring (Maslov & Sneppen, Science 2002). The goal is to rewire connections randomly in a way that it preserves degrees at nodes but destroys any underlying structure.\n",
    "\n",
    "<img style=\"width: 600px; padding: 0px;\" src=\"https://github.com/sathayas/JupyterConnectivitySpring2019/blob/master/Images/SmallWorld_Rewire.jpg?raw=true\" alt=\"Schematic of degree preserving re-wiring\"/>\n",
    "\n",
    "I have written a few functions to implement this. We will re-wire (10 $\\times$ number of nodes) times just so that any underlying network organization is disrupted, except node degrees."
   ]
  },
  {
   "cell_type": "markdown",
   "metadata": {},
   "source": [
    "`<RandomNetworkModel.py>`"
   ]
  },
  {
   "cell_type": "code",
   "execution_count": 17,
   "metadata": {},
   "outputs": [],
   "source": [
    "import random\n",
    "\n",
    "def pick_4nodes(G):\n",
    "    a = random.choice(list(G.nodes()))  # a random node\n",
    "    b = random.choice(list(G[a]))       # a random node connected to a\n",
    "    while True:\n",
    "        # potential pool of nodes to draw c\n",
    "        cPool = (set(G.nodes())-set(G[a])).intersection(set(G.nodes())-set(G[b]))\n",
    "        c = random.choice(list(cPool))\n",
    "        # potential pool of nodes to draw d\n",
    "        dPool = (set(G[c])-set(G[a])).intersection(set(G[c])-set(G[b]))\n",
    "        if len(dPool)>0:\n",
    "            d = random.choice(list(dPool))\n",
    "            break\n",
    "    return [a,b,c,d]\n",
    "\n",
    "\n",
    "def rewire_multi(G,nIter):\n",
    "    H = G.copy()\n",
    "    for i in range(nIter):\n",
    "        list4nodes = pick_4nodes(H)\n",
    "        H.remove_edge(list4nodes[0],list4nodes[1])\n",
    "        H.remove_edge(list4nodes[2],list4nodes[3])\n",
    "        H.add_edge(list4nodes[0],list4nodes[2])\n",
    "        H.add_edge(list4nodes[1],list4nodes[3])\n",
    "    return H\n"
   ]
  },
  {
   "cell_type": "markdown",
   "metadata": {},
   "source": [
    "As a demonstration, let's create a re-wired equivalent random network for C. Elegans network. Here are the degree sequence before and after rewiring."
   ]
  },
  {
   "cell_type": "code",
   "execution_count": 3,
   "metadata": {},
   "outputs": [],
   "source": [
    "%matplotlib inline"
   ]
  },
  {
   "cell_type": "code",
   "execution_count": 18,
   "metadata": {},
   "outputs": [
    {
     "data": {
      "image/png": "[encoded data removed]",
      "text/plain": [
       "<Figure size 432x288 with 1 Axes>"
      ]
     },
     "metadata": {
      "needs_background": "light"
     },
     "output_type": "display_data"
    }
   ],
   "source": [
    "##### C. Elegan network degee sequence before re-wiring\n",
    "degree_CEleg = [d for n, d in G_CEleg.degree()]\n",
    "degree_CEleg.sort()\n",
    "plt.plot(degree_CEleg,'b-')\n",
    "plt.ylabel('Node degree')\n",
    "plt.title('Degree sequence (original network)\\nsmallest to largest')\n",
    "plt.show()"
   ]
  },
  {
   "cell_type": "code",
   "execution_count": 19,
   "metadata": {},
   "outputs": [],
   "source": [
    "##### Rewiring C. Elegans network\n",
    "H_CEleg = rewire_multi(G_CEleg,10*len(G_CEleg.nodes()))"
   ]
  },
  {
   "cell_type": "markdown",
   "metadata": {},
   "source": [
    "Note that we are re-wiring 10 times the number of nodes."
   ]
  },
  {
   "cell_type": "code",
   "execution_count": 20,
   "metadata": {},
   "outputs": [
    {
     "data": {
      "image/png": "[encoded data removed]",
      "text/plain": [
       "<Figure size 432x288 with 1 Axes>"
      ]
     },
     "metadata": {
      "needs_background": "light"
     },
     "output_type": "display_data"
    }
   ],
   "source": [
    "##### C. Elegan network degee sequence after re-wiring\n",
    "degree_CEleg_rewire = [d for n, d in H_CEleg.degree()]\n",
    "degree_CEleg_rewire.sort()\n",
    "plt.plot(degree_CEleg_rewire,'g-')\n",
    "plt.ylabel('Node degree')\n",
    "plt.title('Degree sequence (rewired network)\\nsmallest to largest')\n",
    "plt.show()"
   ]
  },
  {
   "cell_type": "markdown",
   "metadata": {},
   "source": [
    "## Standardized clustering coefficient\n",
    "\n",
    "Let's see how clustering coefficient changes after rewiring."
   ]
  },
  {
   "cell_type": "code",
   "execution_count": 21,
   "metadata": {},
   "outputs": [
    {
     "name": "stdout",
     "output_type": "stream",
     "text": [
      "Clustering, before: 0.2924\n",
      "Clustering, after: 0.1456\n"
     ]
    }
   ],
   "source": [
    "##### Clustering coeff, before and after rewiring\n",
    "print('Clustering, before: %6.4f' % nx.average_clustering(G_CEleg))\n",
    "print('Clustering, after: %6.4f' % nx.average_clustering(H_CEleg))"
   ]
  },
  {
   "cell_type": "markdown",
   "metadata": {},
   "source": [
    "So the ratio of the clustering coefficient from the original network $C$ compared to the clustering coefficient of the random network $C_{rand}$, $\\gamma=C/C_{rand}$ is 2.0. ***If a network exhibits small-world properties, $\\gamma>>1$ due to local interconnections or cliquishness that exists in the network.***\n",
    "\n",
    "### Exercise\n",
    "**Clustering coefficient, rewired networks**: Calculate the clustering coefficient of rewired **(a)** power grid, and **(b)** brain network (ROI, giant component only). **Post the resulting numbers on Canvas**."
   ]
  },
  {
   "cell_type": "markdown",
   "metadata": {},
   "source": [
    "## Standardized path length\n",
    "\n",
    "As for calculation of the path length, we need to be aware that the rewiring process may not produce a connected network. So we shall use the path length of the giant component only, with this modified function."
   ]
  },
  {
   "cell_type": "code",
   "execution_count": 22,
   "metadata": {},
   "outputs": [],
   "source": [
    "def path_length_gc(G):\n",
    "    GC_nodes = max(nx.connected_components(G), key=len)  # giant component nodes\n",
    "    GC = G.subgraph(GC_nodes)\n",
    "    L = nx.average_shortest_path_length(GC)\n",
    "    return L"
   ]
  },
  {
   "cell_type": "markdown",
   "metadata": {},
   "source": [
    "Using this function, now let's take a look if rewiring change the path length at all."
   ]
  },
  {
   "cell_type": "code",
   "execution_count": 23,
   "metadata": {},
   "outputs": [
    {
     "name": "stdout",
     "output_type": "stream",
     "text": [
      "Path length, before: 2.46\n",
      "Path length, after: 2.41\n"
     ]
    }
   ],
   "source": [
    "##### Path length, before and after rewiring\n",
    "print('Path length, before: %4.2f' % path_length_gc(G_CEleg))\n",
    "print('Path length, after: %4.2f' % path_length_gc(H_CEleg))"
   ]
  },
  {
   "cell_type": "markdown",
   "metadata": {},
   "source": [
    "So the ratio of the path length before ($L$) and after rewiring ($L_{rand}$), $\\lambda=L/L_{rand}$ is 1.0. ***If a network exhibits small-world properties, $\\lambda\\simeq1$ due to the shortened global separation in the network.***\n",
    "\n",
    "\n",
    "### Exercise\n",
    "**Path length, rewired networks**: Calculate the clustering coefficient of rewired **(a)** power grid, and **(b)** brain network (ROI, giant component only). **Post the resulting numbers on Canvas**."
   ]
  },
  {
   "cell_type": "markdown",
   "metadata": {},
   "source": [
    "# Small-worldness\n",
    "<hr style=\"height:1px;border:none\" />\n",
    "\n",
    "If a network is small-world, $\\gamma>>1$ and $\\lambda\\simeq1$. Thus, Humphries et al. (Humphries et al., PLoS ONE, 2008) developed a metric called small-worldness $\\sigma$ defined as\n",
    "$$\n",
    "\\sigma = \\frac{C/C_{rand}}{L/L_{rand}} = \\frac{\\gamma}{\\lambda}\n",
    "$$\n",
    "\n",
    "Humphries suggests ***any network with $\\sigma>1$ is a small-world network***. This concept of small-worldness $\\sigma$ is widely adapted by brain network researchers. However, some question the utility of the small-worldness $\\sigma$ (e.g., Telesford et al., Brain Connectivity 2011) because virtually all networks have $\\sigma>1$."
   ]
  },
  {
   "cell_type": "markdown",
   "metadata": {},
   "source": [
    "# *Further readings*\n",
    "<hr style=\"height:1px;border:none\" />\n",
    "\n",
    "* Humphries MD, Gurney K. 2008. Network 'small-world-ness': a quantitative method for determining canonical network equivalence. PLoS One 3:e0002051.\n",
    "* Telesford QK, Joyce KE, Hayasaka S, Burdette JH, Laurienti PJ (2011) The ubiquity of small-world networks. Brain Connectivity 1: 367–375."
   ]
  }
 ],
 "metadata": {
  "kernelspec": {
   "display_name": "Python 3",
   "language": "python",
   "name": "python3"
  },
  "language_info": {
   "codemirror_mode": {
    "name": "ipython",
    "version": 3
   },
   "file_extension": ".py",
   "mimetype": "text/x-python",
   "name": "python",
   "nbconvert_exporter": "python",
   "pygments_lexer": "ipython3",
   "version": "3.6.7"
  }
 },
 "nbformat": 4,
 "nbformat_minor": 2
}
